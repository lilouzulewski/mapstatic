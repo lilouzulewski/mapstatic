{
 "cells": [
  {
   "cell_type": "code",
   "execution_count": null,
   "metadata": {},
   "outputs": [],
   "source": []
  }
 ],
 "metadata": {
  "kernelspec": {
   "display_name": "Python 3.9.13 ('base')",
   "language": "python",
   "name": "python3"
  },
  "language_info": {
   "name": "python",
   "version": "3.9.13"
  },
  "orig_nbformat": 4,
  "vscode": {
   "interpreter": {
    "hash": "0f3ab29557155a7aa7a76bcb8a5c1bcf3a29cdfb68b4d0629a1d0420fe540327"
   }
  }
 },
 "nbformat": 4,
 "nbformat_minor": 2
}
#import data
df=pd.read_csv(r"C:\Users\SCD UM\.ipython\Projecy D.L/data.csv", sep=";") #Lecture du tableau de données csv
df_num=df.to_numpy() 
data=df.loc[:,'Périmètre':'Prévision J (MW)']#Prendre les colonnes nécessaires pour prédire la consommation de l'éléctricité en France
data
